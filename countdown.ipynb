{
 "cells": [
  {
   "cell_type": "markdown",
   "id": "fd777eaa-2863-405a-a7e5-87e3fc4e9f8b",
   "metadata": {},
   "source": [
    "# Computational Theory: Analysis of the Countdown Numbers Game\n",
    "\n",
    "*Jakub Prochnicki G00373793*\n",
    "\n",
    "---"
   ]
  },
  {
   "cell_type": "markdown",
   "id": "b8983287-dacc-4246-b2fc-87f165370b97",
   "metadata": {},
   "source": [
    "# Table of Contents\n",
    "1. [Introduction](#intro)\n",
    "2. [Explanation of the Countdown Numbers Game](#concepts)\n",
    "3. [Analysis of the Computational Complexity](#oracle)\n",
    "4. [Approach to Solving the Game](#implementation)\n",
    "5. [Conclusion](#conclusion)"
   ]
  },
  {
   "cell_type": "markdown",
   "id": "0eb49f50-f37e-4fb0-8ad8-32c8d5281540",
   "metadata": {},
   "source": [
    "# Introduction\n",
    "---"
   ]
  },
  {
   "cell_type": "markdown",
   "id": "2c171986-fb5b-48a9-8449-329271771089",
   "metadata": {},
   "source": [
    "This notebook constitutes my assessment submission for the Computational Theory Module at ATU Galway. The aim of this notebook is to provide an analysis of the Countdown Numbers Game. Firstly, I will provide an explanation of the game and give an example of the game in action. Following the explanation, I delve into an analysis of the computational complexity of the game and provide various approaches to solving the game, namely: Brute Force Approach, Heuristic Approach and Reverse Polish Notation. Lastly, I will evaluate my findings from solving the problem using various approaches"
   ]
  },
  {
   "cell_type": "markdown",
   "id": "6792f77c-2afa-46b1-975e-7ed176fc9be2",
   "metadata": {},
   "source": [
    "# Explanation of the Countdown Numbers Game\n",
    "---\n",
    "The Countdown Numbers Game allows people to showcase their math skills on a British aired TV Show, Countdown. The aim of the game is to reach a specific target number using a set of six other numbers and basic arithmetic operations. In order to better understand the game, I have come up with the following breakdown of how a round of Countdown works.\n",
    "\n",
    "- The player selects six numbers from two groups : The first group consisting of four large numbers: 25, 50, 75, and 100. The other group holds twenty smaller numbers ranging from 1 to 10, with each number appearing twice. The player has the freedom to use any combination of numbers from these two groups.\n",
    "\n",
    "- The game generates a target number, a three digit number.\n",
    "- The player is then given a 30 second window and is given the task of using a combination of arithmetic operations in order to come as close as possible to the target number. Each of the six numbers can be used once and players are not obliged to use all six numbers. The operations must however result in a whole number at every step.\n",
    "- The score is determined by the closeness of the player's number to the target score. A perfect score of 10 is awarded to players where they have reached the target number.\n",
    "\n",
    "  *need to give example of a game in action*"
   ]
  },
  {
   "cell_type": "markdown",
   "id": "b837f0c9",
   "metadata": {},
   "source": [
    "# Analysing the Computational Complexity of the Game\n",
    "---\n",
    "\n",
    "*The Problem:* In the game, a player is given six numbers and must use arithmetic operations (addition, subtraction, multiplication, and division) to reach a randomly generated three-digit target number. The operations must result in whole numbers, and each of the six numbers can be used at most once.\n",
    "\n",
    "\n",
    "In order to analyse the computational complexity, it is necessary to consider how difficult it is to find a solution to reach the target number using a set of numbers and arithmetic operations. This analysis typically focuses on the theoretical limits of solving this problem using algorithms, and the complexity can be described in terms of both time and space (memory). \n",
    "\n",
    "The primary challenge is the *combinatorial nature* of the problem. For each of the six numbers, there are decisions about:\n",
    "\n",
    " - Whether to use the number or not.\n",
    " - Which arithmetic operation to apply.\n",
    " - Which other number to combine it with.\n",
    "\n",
    "As there are four operations and up to five other numbers to combine with, the possibilities increase exponentially with each step.\n",
    " \n",
    "*Permutations:* The numbers can be arranged in 6 different ways, resulting in a factorial of 6\n",
    "\n",
    "*Operations:* At each step between two numbers, you can apply one of four operations. If you consider operations between pairs of numbers, the number of operational combinations also increases rapidly.\n"
   ]
  },
  {
   "cell_type": "markdown",
   "id": "8b9467ce-e156-49a6-b164-4368d8333e43",
   "metadata": {},
   "source": [
    "# Implementing Countdown using a Brute Force Approach\n",
    "---\n",
    "\n",
    "The Brute Force Approach is the first approach to solving the game that I demonstrate in this notebook. In this approach, you must generate all the  possible number and operation combinations and evaluate each combination to see if it can produce the target number. \n",
    "\n",
    "An implementation of the countdown game using this approach is demonstrated using the code below which was generated by ChatGPT using the following prompt:\n",
    "\n",
    "```\n",
    "Implement the countdown numbers game in python using a brute force approach.\n",
    "```\n"
   ]
  },
  {
   "cell_type": "code",
   "execution_count": 4,
   "id": "3941937e-da20-475f-8608-8a51a7d6f655",
   "metadata": {},
   "outputs": [],
   "source": [
    "import itertools\n",
    "import operator\n",
    "\n",
    "def eval_expression(expr):\n",
    "    \"\"\" Evaluate a traditional infix expression using a stack-based approach for operators and operands. \"\"\"\n",
    "    ops = {'+': operator.add, '-': operator.sub, '*': operator.mul, '/': operator.truediv}\n",
    "    stack = []\n",
    "    try:\n",
    "        for token in expr:\n",
    "            if token in ops:\n",
    "                b, a = stack.pop(), stack.pop()\n",
    "                if token == '/' and b == 0:\n",
    "                    return None  # Avoid division by zero\n",
    "                if token == '-' and a - b < 0:\n",
    "                    return None  # Ensure subtraction doesn't go negative\n",
    "                if token == '/' and a % b != 0:\n",
    "                    return None  # Ensure divisions are integral\n",
    "                stack.append(ops[token](a, b))\n",
    "            else:\n",
    "                stack.append(token)\n",
    "        return stack[0] if len(stack) == 1 else None\n",
    "    except Exception:\n",
    "        return None"
   ]
  },
  {
   "cell_type": "markdown",
   "id": "e2f24e1c",
   "metadata": {},
   "source": [
    "This function evaluates an expression given in infix notation (like 2 + 3 * 4). It handles basic arithmetic operations and ensures operations like division by zero or negative results from subtraction are not considered valid."
   ]
  },
  {
   "cell_type": "code",
   "execution_count": 5,
   "id": "113f4b94",
   "metadata": {},
   "outputs": [],
   "source": [
    "def generate_expressions(numbers, operations):\n",
    "    \"\"\" Generate all valid expressions combining numbers and operations. \"\"\"\n",
    "    for ops_perm in itertools.permutations(operations, len(numbers) - 1):\n",
    "        # Create a pattern like [num, op, num, op, num, ...]\n",
    "        expression = []\n",
    "        nums = iter(numbers)\n",
    "        expression.append(next(nums))\n",
    "        for op in ops_perm:\n",
    "            expression.append(op)\n",
    "            expression.append(next(nums))\n",
    "        yield expression"
   ]
  },
  {
   "cell_type": "markdown",
   "id": "5a32e9f7",
   "metadata": {},
   "source": [
    " This generates all permutations of inserting operations between the numbers. This function ensures that every possible combination of the given numbers with the given operations in all possible orders is considered."
   ]
  },
  {
   "cell_type": "code",
   "execution_count": 6,
   "id": "61284362",
   "metadata": {},
   "outputs": [],
   "source": [
    "def solve_numbers(numbers, target):\n",
    "    \"\"\" Brute-force search to find an expression that evaluates to the target number. \"\"\"\n",
    "    # Define the operations available\n",
    "    operations = ['+', '-', '*', '/'] * (len(numbers) - 1)\n",
    "    for expr in generate_expressions(numbers, operations):\n",
    "        if eval_expression(expr) == target:\n",
    "            return expr  # Return the successful expression\n",
    "    return None"
   ]
  },
  {
   "cell_type": "markdown",
   "id": "5023297e",
   "metadata": {},
   "source": [
    "This is the main function that orchestrates the process. It tries every generated expression and checks if it evaluates to the target number. If such an expression is found, it returns it."
   ]
  },
  {
   "cell_type": "code",
   "execution_count": 7,
   "id": "1a1c9796",
   "metadata": {},
   "outputs": [
    {
     "name": "stdout",
     "output_type": "stream",
     "text": [
      "No solution found\n",
      "Elapsed time: 4.486725807189941 seconds\n"
     ]
    }
   ],
   "source": [
    "import time\n",
    "\n",
    "# Example usage\n",
    "numbers = [25, 50, 3, 7, 8, 2]\n",
    "target = 752\n",
    "\n",
    "start_time = time.time()\n",
    "solution = solve_numbers(numbers, target)\n",
    "elapsed_time = time.time() - start_time\n",
    "\n",
    "if solution:\n",
    "    print(\"Found a solution:\", ' '.join(map(str, solution)))\n",
    "else:\n",
    "    print(\"No solution found\")\n",
    "print(f\"Elapsed time: {elapsed_time} seconds\")\n"
   ]
  },
  {
   "cell_type": "markdown",
   "id": "3320b4b7",
   "metadata": {},
   "source": [
    "Here, we can see an example usage of the game using this approach. The complexity of this apporoach is measured by calculating the execution time using the time module.\n",
    "\n",
    "This implementation solves the problem by creating all possible permutations of operations and numbers. It then checks each permutation to see if it is equal to the target number. Using this approach ensures that a solution will be found if it exists however it comes with the cost of a high computational complexity."
   ]
  },
  {
   "cell_type": "markdown",
   "id": "a2a4a277-62e8-45e8-a40e-48ba4d87ec84",
   "metadata": {},
   "source": [
    "# Reverse Polish Notation\n",
    "---\n",
    "\n",
    "Reverse Polish Notation (RPN), also known as postfix notation is a mathematical notation invented in the 1950s that places the arithmetic operator after the arguments it is being operated on. In RPN there is no need for brackets to indicate the grouping of the terms, instead the expression is evaluated from left to right. This simplifies the computation of the expression which is highly favourable in the problem of solving the Countdown numbers game.(https://mathworld.wolfram.com/ReversePolishNotation.html) \n",
    "\n",
    "The figure below depicts the stack structure of an RPN expression, where we can see the following actions being performed: \n",
    "\n",
    " - Push the next appearing number to the stack.\n",
    " - Pop the number of the stack twice where an operator appears and push the result of the  operation.\n",
    "\n",
    "   ADDING PICTURE OF RPN STACK HERE\n",
    "\n",
    "Using RPN in the context of the Countdown game is beneficial in reducing the computational complexity of the game as it simplifies the process of mathematical calculations\n",
    "\n",
    "The following steps must be taken in order to implement the Countdown numbers game using Reverse Polish Notation: \n",
    "\n",
    "  1. **Generate valid RPN expressions**: This step involves confirming that the RPN expressions are valid by ensuring that the count of numbers is always greater than the count of operations up to that point, at every point in the sequence.\n",
    "     \n",
    "  2. **Evaluate RPN expressions**: In this step, an RPN stack that I explained previously is used in order to evaluate the expression. If the result of the expression matches the target number, the expression is a solution.\n",
    "     \n",
    "  3. **Generate Combinations**: Handle the generation of all possible number combinations.\n"
   ]
  },
  {
   "cell_type": "markdown",
   "id": "d3b9fccb-e2f1-4bfa-974b-870895575cf2",
   "metadata": {},
   "source": [
    "# References \n",
    "--- \n",
    "[1] Lynch, J. and Yan Weng. “The Computational Complexity of Finding Arithmetic Expressions With and Without Parentheses.” https://www.semanticscholar.org/reader/21f455ca0bbf9a355611bc0593dd1cf8a8d32584\n",
    "\n",
    "“Countdown” numbers game: the lowdown https://www.daitx.com/2016/05/01/countdown-math/\n",
    "\n",
    "Reverse Polish Notation: https://mathworld.wolfram.com/ReversePolishNotation.html\n"
   ]
  }
 ],
 "metadata": {
  "kernelspec": {
   "display_name": "Python 3 (ipykernel)",
   "language": "python",
   "name": "python3"
  },
  "language_info": {
   "codemirror_mode": {
    "name": "ipython",
    "version": 3
   },
   "file_extension": ".py",
   "mimetype": "text/x-python",
   "name": "python",
   "nbconvert_exporter": "python",
   "pygments_lexer": "ipython3",
   "version": "3.12.2"
  }
 },
 "nbformat": 4,
 "nbformat_minor": 5
}
