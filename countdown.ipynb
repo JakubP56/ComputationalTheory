{
 "cells": [
  {
   "cell_type": "markdown",
   "id": "fd777eaa-2863-405a-a7e5-87e3fc4e9f8b",
   "metadata": {},
   "source": [
    "# Computational Theory: Analysis of the Countdown Numbers Game\n",
    "\n",
    "*Jakub Prochnicki G00373793*\n",
    "\n",
    "---"
   ]
  },
  {
   "cell_type": "markdown",
   "id": "b8983287-dacc-4246-b2fc-87f165370b97",
   "metadata": {},
   "source": [
    "# Table of Contents\n",
    "1. [Introduction](#intro)\n",
    "2. [Explanation of the Countdown Numbers Game](#concepts)\n",
    "3. [Analysis of the Computational Complexity](#oracle)\n",
    "4. [Approach to Solving the Game](#implementation)\n",
    "5. [Conclusion](#conclusion)\n",
    "\n",
    "\n",
    "---"
   ]
  },
  {
   "cell_type": "markdown",
   "id": "0eb49f50-f37e-4fb0-8ad8-32c8d5281540",
   "metadata": {},
   "source": [
    "# Introduction\n",
    "---"
   ]
  },
  {
   "cell_type": "markdown",
   "id": "2c171986-fb5b-48a9-8449-329271771089",
   "metadata": {},
   "source": [
    "This notebook constitutes my assessment submission for the Computational Theory Module at ATU Galway. The aim of this notebook is to provide an analysis of the Countdown Numbers Game. Firstly, I will provide an explanation of the game and give an example of the game in action. Following the explanation, I delve into an analysis of the computational complexity of the game and provide various approaches to solving the game, namely: Brute Force Approach, Heuristic Approach and Reverse Polish Notation. Lastly, I will evaluate my findings from solving the problem using various approaches"
   ]
  },
  {
   "cell_type": "code",
   "execution_count": null,
   "id": "315c02be-ea89-4974-a9a5-1043cb86ccda",
   "metadata": {},
   "outputs": [],
   "source": []
  }
 ],
 "metadata": {
  "kernelspec": {
   "display_name": "Python 3 (ipykernel)",
   "language": "python",
   "name": "python3"
  },
  "language_info": {
   "codemirror_mode": {
    "name": "ipython",
    "version": 3
   },
   "file_extension": ".py",
   "mimetype": "text/x-python",
   "name": "python",
   "nbconvert_exporter": "python",
   "pygments_lexer": "ipython3",
   "version": "3.12.2"
  }
 },
 "nbformat": 4,
 "nbformat_minor": 5
}
