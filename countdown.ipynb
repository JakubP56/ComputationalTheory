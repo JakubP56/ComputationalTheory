{
 "cells": [
  {
   "cell_type": "markdown",
   "id": "fd777eaa-2863-405a-a7e5-87e3fc4e9f8b",
   "metadata": {},
   "source": [
    "# Computational Theory: Analysis of the Countdown Numbers Game\n",
    "\n",
    "*Jakub Prochnicki G00373793*\n",
    "\n",
    "---"
   ]
  },
  {
   "cell_type": "markdown",
   "id": "b8983287-dacc-4246-b2fc-87f165370b97",
   "metadata": {},
   "source": [
    "# Table of Contents\n",
    "1. [Introduction](#intro)\n",
    "2. [Explanation of the Countdown Numbers Game](#concepts)\n",
    "3. [Analysis of the Computational Complexity](#oracle)\n",
    "4. [Approach to Solving the Game](#implementation)\n",
    "5. [Conclusion](#conclusion)"
   ]
  },
  {
   "cell_type": "markdown",
   "id": "0eb49f50-f37e-4fb0-8ad8-32c8d5281540",
   "metadata": {},
   "source": [
    "# Introduction\n",
    "---"
   ]
  },
  {
   "cell_type": "markdown",
   "id": "2c171986-fb5b-48a9-8449-329271771089",
   "metadata": {},
   "source": [
    "This notebook constitutes my assessment submission for the Computational Theory Module at ATU Galway. The aim of this notebook is to provide an analysis of the Countdown Numbers Game. Firstly, I will provide an explanation of the game and give an example of the game in action. Following the explanation, I delve into an analysis of the computational complexity of the game and provide various approaches to solving the game, namely: Brute Force Approach, Heuristic Approach and Reverse Polish Notation. Lastly, I will evaluate my findings from solving the problem using various approaches"
   ]
  },
  {
   "cell_type": "markdown",
   "id": "6792f77c-2afa-46b1-975e-7ed176fc9be2",
   "metadata": {},
   "source": [
    "# Explanation of the Countdown Numbers Game\n",
    "---\n",
    "The Countdown Numbers Game allows people to showcase their math skills on a British aired TV Show, Countdown. The aim of the game is to reach a specific target number using a set of six other numbers and basic arithmetic operations. In order to better understand the game, I have come up with the following breakdown of how a round of Countdown works.\n",
    "\n",
    "- The player selects six numbers from two groups : The first group consisting of four large numbers: 25, 50, 75, and 100. The other group holds twenty smaller numbers ranging from 1 to 10, with each number appearing twice. The player has the freedom to use any combination of numbers from these two groups.\n",
    "\n",
    "- The game generates a target number, a three digit number.\n",
    "- The player is then given a 30 second window and is given the task of using a combination of arithmetic operations in order to come as close as possible to the target number. Each of the six numbers can be used once and players are not obliged to use all six numbers. The operations must however result in a whole number at every step.\n",
    "- The score is determined by the closeness of the player's number to the target score. A pe"
   ]
  },
  {
   "cell_type": "code",
   "execution_count": null,
   "id": "35705571-c894-473d-9e0d-a43cd35ac552",
   "metadata": {},
   "outputs": [],
   "source": []
  }
 ],
 "metadata": {
  "kernelspec": {
   "display_name": "Python 3 (ipykernel)",
   "language": "python",
   "name": "python3"
  },
  "language_info": {
   "codemirror_mode": {
    "name": "ipython",
    "version": 3
   },
   "file_extension": ".py",
   "mimetype": "text/x-python",
   "name": "python",
   "nbconvert_exporter": "python",
   "pygments_lexer": "ipython3",
   "version": "3.12.2"
  }
 },
 "nbformat": 4,
 "nbformat_minor": 5
}
